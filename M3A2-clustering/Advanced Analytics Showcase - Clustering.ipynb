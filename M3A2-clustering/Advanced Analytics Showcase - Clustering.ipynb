{
 "cells": [
  {
   "cell_type": "markdown",
   "metadata": {
    "pycharm": {
     "name": "#%% md\n"
    }
   },
   "source": [
    "# **Advanced Analytics Showcase - Clustering**\n",
    "\n",
    "![kmeans-meme](images/kmeans_meme.png)"
   ]
  },
  {
   "cell_type": "markdown",
   "metadata": {
    "pycharm": {
     "name": "#%% md\n"
    }
   },
   "source": [
    "## Learning Objectives\n",
    "\n",
    "* Explain the key concepts of clustering and the most common clustering algorithm - KMeans\n",
    "* Recognize common use cases and potential business impact of clustering\n",
    "* Familiarize with key vocabularies in clustering and understand the language of a Data Analyst/Data Scientist\n",
    "* Appreciate the advantages of clustering over Excel-based segmentation\n",
    "\n",
    "<img src = \"images/clusteringcartoon3.png\" height = 400 width = 600><br>"
   ]
  },
  {
   "cell_type": "markdown",
   "metadata": {
    "pycharm": {
     "name": "#%% md\n"
    }
   },
   "source": [
    "## Introduction to Python Jupyter Notebook\n",
    "\n",
    "**What is a Jupyter Notebook**\n",
    "\n",
    "What you are working with right now is a \"Python Jupyter Notebook\".\n",
    "\n",
    "- Python Jupyter Notebook is a popular and powerful tool used by data scientists and analysts to conduct analytics projects.\n",
    "- It allows users to create and share documents containing live code, equations, visualizations, and text.\n",
    "- Jupyter Notebook provides an interactive environment where data scientists can explore data, build models, and communicate their findings effectively.\n",
    "- The flexibility of Jupyter Notebook makes it easy to experiment with different data analysis techniques and share the results with stakeholders.\n",
    "\n",
    "**How to run a Jupyter Notebook?**\n",
    "\n",
    "- Insert text to the code cell by clicking on it.\n",
    "- To execute the code, select the code cell and press \"Shift\" + \"Enter\" keys on the keyboard.\n",
    "- Wait for the code to execute, which might take some time for longer cells.\n",
    "- Once executed, the output will be displayed below the code cell.\n",
    "\n",
    "Practice on the cell below"
   ]
  },
  {
   "cell_type": "code",
   "execution_count": null,
   "metadata": {
    "pycharm": {
     "name": "#%%\n"
    }
   },
   "outputs": [],
   "source": [
    "PRACTICE_TEXT = \"REPLACE WITH YOUR NAME\"\n",
    "print(\"Hi {}! Welcome to the clustering showcase session. You have learnt how to execute a Jupyter code cell!\".format(PRACTICE_TEXT))"
   ]
  },
  {
   "cell_type": "markdown",
   "metadata": {
    "pycharm": {
     "name": "#%% md\n"
    }
   },
   "source": [
    "## Introduction to Clustering\n",
    "\n",
    "- A cluster is a group of similar data objects that are different from objects in other clusters.\n",
    "- Clustering is an unsupervised learning technique where data is grouped or labeled into separate classes based on similarities.\n",
    "- RFM segmentation is an example of clustering using transactional data. There are more advanced and powerful clustering techniques available for better customer segmentation.\n",
    "- Clustering can be used as a standalone tool to gain insights into data distribution or as a preprocessing step in other algorithms.\n",
    "<br>\n",
    "\n",
    "<table><tr>\n",
    "<td><img src = \"images/cluster1.png\" height = \"300\" width = \"300\"/></td>\n",
    "<td><img src = \"images/cluster2.png\" height = \"300\" width = \"300\"/></td>\n",
    "</tr></table>\n",
    "\n",
    "</font>"
   ]
  },
  {
   "cell_type": "markdown",
   "metadata": {
    "pycharm": {
     "name": "#%% md\n"
    }
   },
   "source": [
    "## Possible Applications\n",
    "\n",
    "Clustering algorithms can be leveraged by SMEs from various industries. It's more powerful than RFM analysis, as it can be used to solve a wider range of business problems\n",
    "\n",
    "| **Application / Use Cases**                                                                                  | **Clustering Algorithms** | **RFM Analysis** |\n",
    "|--------------------------------------------------------------------------------------------------------------|--------------------------|------------------|\n",
    "| Customer segmentation for a local coffee shop based on customer demographics and purchase history.           | Yes                      | Restricted       |\n",
    "| Product segmentation for a fashion boutique based on customer purchase behavior and product features.        | Yes                      | Restricted       |\n",
    "| Anomaly detection for a manufacturing company based on sensor data and production statistics.                | Yes                      | No               |\n",
    "| Traffic pattern analysis for a local delivery service based on real-time traffic data and customer location. | Yes                      | No               |\n",
    "| Fraud detection for an online retailer based on historical order data and user behavior.                     | Yes                      | No               |\n",
    "| Image segmentation for a marketing agency based on customer preferences and engagement.                      | Yes                      | No               |\n",
    "| Voice recognition for a virtual assistant based on audio data and user patterns.                             | Yes                      | No               |\n",
    "| Clustering of genes for a biotech company based on expression data.                                          | Yes                      | No               |\n",
    "| Personalized medicine for a healthcare clinic based on patient genetics and clinical data.                   | Yes                      | No               |\n",
    "| Customer segmentation for a telecom company based on customer usage and demographic data.                    | Yes                      | Restricted       |\n",
    "| Product improvement for a bakery store based on customer purchase history, feedback, and demographics.       | Yes                      | Restricted       |\n",
    "| Market basket analysis for a grocery store based on transaction data.                                        | Yes                      | Yes              |\n",
    "| Product recommendations for a e-commerce website based on customer purchase history and product features.    | Yes                      | Restricted       |\n",
    "| Customer churn prediction for a FnB company based on transaction data and customer demographics.             | Yes                      | Restricted       |\n",
    "| Sales territory planning for a  real estate agency based on customer demographics and housing preferences.   | Yes                      | Restricted       |\n",
    "\n",
    "<br>\n",
    "\n",
    "<table><tr>\n",
    "<td><img src = \"images/discussion.png\" height = \"150\" width = \"150\"/></td>\n",
    "<td><b>Discussion: </b> Which one(s) of these potentially use cases of clustering is relevant to your company? Can you use RFM analysis to solve it?</td>\n",
    "</tr></table>\n"
   ]
  },
  {
   "cell_type": "markdown",
   "metadata": {
    "pycharm": {
     "name": "#%% md\n"
    }
   },
   "source": [
    "## Advantages of Clustering Algorithm over RFM Analysis\n",
    "\n",
    "**Recap: Hyper-personalization introduced in M1**\n",
    "\n",
    "<img src = \"images/ml_usecases_v4.png\">\n",
    "\n",
    "**Challenge: Many customer micro-segments**\n",
    "- Imagine you want to segment your customers into 200 non-overlapping clusters, it would be a mission impossible to complete with RFM analysis\n",
    "- You will need a Machine Learning algorithm to discover segments in the data automatically - that's what clustering is good at\n",
    "\n",
    "**Challenge: Segmentation based on behavious, preferences and demographics**\n",
    "- The customer segments were defined by the purchasing history only. Other useful information, such as demographics and products purchased, are not considered in the segmenting customers\n",
    "- Machine learning clustering algorithm takes in not only transaction data, but also other features about a customer, to derive better segments\n",
    "\n",
    "**Challenge: Continuous monitor and adjust**\n",
    "- To come up with the most sensible customer segments, you had to manually decide definition and criteria for each segment. It was a time-consuming and tedious process to iterate through RFM Excel template\n",
    "- Machine learning clustering automatically decides cluster assignment, which makes iterations much easier and faster\n",
    "\n",
    "In summary, the table below summarises the advantages of clustering over RFM analysis\n",
    "\n",
    "|                         | Clustering                                       | RFM                                         |\n",
    "|-------------------------|--------------------------------------------------|---------------------------------------------|\n",
    "| Segment definition      | The algorithm discovers natural groups           | User has to define each segment             |\n",
    "| Column inputs           | Any numeric variables                            | Only RFM columns                            |\n",
    "| Limit to No. segments   | No theoretical limit                             | Difficult to define more than 8 segments    |\n",
    "| Prune to bias           | Model decides segments based on distance metrics | Manual judgment and assumptions             |\n",
    "| Time to iterate         | Fast                                             | Slow                                        |\n",
    "| Scale                   | Suitable for large datasets of all sizes         | Suitable for small to medium datasets       |"
   ]
  },
  {
   "cell_type": "markdown",
   "metadata": {
    "pycharm": {
     "name": "#%% md\n"
    }
   },
   "source": [
    "## How Do We Define Good Clustering Algorithms?\n",
    "\n",
    "High quality clusters can be created by reducing the distance between the objects in the same cluster known as intra-cluster minimization and increasing the distance with the objects in the other cluster known as inter-cluster maximization.\n",
    "\n",
    "- <b>Intra-cluster Minimization:</b> The closer the objects in a cluster, the more likely they belong to the same cluster.\n",
    "- <b>Inter-cluster Maximization:</b> This makes the separation between two clusters. The main goal is to maximize the distance between 2 clusters.\n",
    "\n",
    "<img src = \"images/good_clusters.jpeg\" height=\"700\" width=\"700\">\n",
    "\n",
    "The distance represents the similarity between any pairs of data. Some commonly used distance metrics are given below:\n",
    "\n",
    "1. __Euclidean Distance:__ The Euclidean distance or Euclidean metric is the ordinary distance between two points that one would measure with a ruler.\n",
    "2. __Manhattan Distance:__ Manhattan distance is a type of distance measurement that follows a path along the sides of a triangle, instead of the direct straight line between two points. It is called Manhattan distance because the streets in Manhattan, New York City are laid out in a grid pattern, and this type of distance measurement is similar to how you would travel along the streets to get from one point to another. This metric is less affected by outliers than the Euclidean metrics.\n",
    "\n",
    "<img src = \"images/Example-of-Euclidean-and-Manhattan-distances-between-two-points-A-and-B-The-Euclidean.png\" height=\"500\" width=\"500\">"
   ]
  },
  {
   "cell_type": "markdown",
   "metadata": {
    "pycharm": {
     "name": "#%% md\n"
    }
   },
   "source": [
    "## The Most Widely Used Clustering Algorithm - KMeans\n",
    "\n",
    "K-means clustering is a simple unsupervised learning algorithm that is used to solve clustering problems. It follows a simple procedure of classifying a given data set into a number of clusters, defined by the letter \"k,\" which is fixed beforehand. The clusters are then positioned as points and all observations or data points are associated with the nearest cluster, computed, adjusted and then the process starts over using the new adjustments until a desired result is reached.\n",
    "\n",
    "K-Means includes the following 4 steps:\n",
    "\n",
    "1. Start with number of clusters we want e.g., 3 in this case. K-Means algorithm start the process with random centers in data, and then tries to attach the nearest points to these centers\n",
    "2. Algorithm then moves the randomly allocated centers to the means of created groups\n",
    "3. In the next step, data points are again reassigned to these newly created centers\n",
    "4. Steps 2 & 3 are repeated until no member changes their association/groups or the time budget is running out\n",
    "\n",
    "[Interactive Demo of K-Means Algorithm](https://www.naftaliharris.com/blog/visualizing-k-means-clustering/)\n",
    "\n",
    "**Why do we use K-Mean**\n",
    "\n",
    "* It is one of the most common clustering algorithm with many proven success in various industries and use cases\n",
    "* K-Means is useful when we have an idea of how many clusters actually exists in your space\n",
    "* With a large number of variables, K-Means is computationally faster than other clustering techniques (if K is small)"
   ]
  },
  {
   "cell_type": "markdown",
   "metadata": {
    "pycharm": {
     "name": "#%% md\n"
    }
   },
   "source": [
    "## Apply KMeans Like a Data Scientist\n",
    "\n",
    "In this section, we will apply K-Means algorithm on the FFC data. You will be able to:\n",
    "- Observe the differences between clusters identified from KMeans and RFM analysis\n",
    "- Recognize different types of visualisations created from Python & Excel\n",
    "- Iterate KMeans quickly with different configurations and parameters"
   ]
  },
  {
   "cell_type": "markdown",
   "metadata": {
    "pycharm": {
     "name": "#%% md\n"
    }
   },
   "source": [
    "### Load required libraries\n",
    "\n",
    "Python is an open-sourced programming language with many contributors creating libraries for different purposes. These libraries will need to be loaded at the beginning of the scripts. After loading, we will be able to use the functions in these libraries"
   ]
  },
  {
   "cell_type": "code",
   "execution_count": null,
   "metadata": {
    "pycharm": {
     "name": "#%%\n"
    }
   },
   "outputs": [],
   "source": [
    "# Note - all these lines in the code block starting with # signs are comments\n",
    "# Comments provide explanations of the code and also instructions for execution\n",
    "\n",
    "# Importing required Python libraries for this session\n",
    "# Press Shift + Enter\n",
    "\n",
    "!wget https://raw.githubusercontent.com/RISEBCG/DAB/main/M3A2-clustering/cluster_helper.py\n",
    "from cluster_helper import *"
   ]
  },
  {
   "cell_type": "markdown",
   "metadata": {
    "pycharm": {
     "name": "#%% md\n"
    }
   },
   "source": [
    "### Load the dataset\n",
    "\n",
    "Python will need to load the data into the memory before consuming or transforming the data"
   ]
  },
  {
   "cell_type": "code",
   "execution_count": null,
   "metadata": {
    "pycharm": {
     "name": "#%%\n"
    }
   },
   "outputs": [],
   "source": [
    "# Load the dataset prepared for clustering.\n",
    "# Press Shift + Enter\n",
    "\n",
    "df = pd.read_csv('https://raw.githubusercontent.com/RISEBCG/DAB/main/M3A2-clustering/customer_clustering_v1.csv')"
   ]
  },
  {
   "cell_type": "code",
   "execution_count": null,
   "metadata": {
    "pycharm": {
     "name": "#%%\n"
    }
   },
   "outputs": [],
   "source": [
    "# Let's take a glance at the data\n",
    "# .head() command shows the top 10 rows of the dataset\n",
    "# Key in df.head(10) and press Shift + Enter\n",
    "\n"
   ]
  },
  {
   "cell_type": "markdown",
   "metadata": {
    "pycharm": {
     "name": "#%% md\n"
    }
   },
   "source": [
    "From the top 10 rows, we can tell that the dataset contains the following columns in 4 categories:\n",
    "\n",
    "*ID:*\n",
    "- customer_id\n",
    "\n",
    "*Demographics:*\n",
    "- age\n",
    "- annual income\n",
    "\n",
    "*RFM features:*\n",
    "- most_recent_purchase_days\n",
    "- total_net_sales\n",
    "- total_no_transaction\n",
    "- overall seg\n",
    "\n",
    "*Purchase behaviours:*\n",
    "- total_sku_quantities\n",
    "- Greek yogurt_count\n",
    "- Nuts_count\n",
    "- Apple slices_count\n",
    "- Chips_count\n",
    "- Soda_count\n",
    "- Chocolate bar_count\n",
    "- Seasonal special_count\n",
    "- Promotion item_count\n",
    "- Lunchbox - Beef_count\n",
    "- Lunchbox - Vegan_count\n",
    "\n",
    "The next step is to examine if there are any outliers, missing values or any other issues with this data"
   ]
  },
  {
   "cell_type": "markdown",
   "metadata": {
    "pycharm": {
     "name": "#%% md\n"
    }
   },
   "source": [
    "### Data inspection\n",
    "\n",
    "Recall the concepts of \"Dirty data\" and \"Cleaned data\". Before conducting any analysis or modelling, it is critical to inspect the data for any issues. These issues have to be fixed before proceeding with the analytics.\n",
    "\n",
    "In some context, this step is also referred as \"Exploratory Data Analysis (EDA)\", as you might be able to draw some initial insights from the data while doing the inspection."
   ]
  },
  {
   "cell_type": "code",
   "execution_count": null,
   "metadata": {
    "pycharm": {
     "name": "#%%\n"
    }
   },
   "outputs": [],
   "source": [
    "# We use .describe() to generate a data summary for all the numerical values.\n",
    "# From the data summary, we could easily spot any missing values or outliers\n",
    "# Key in df.describe() and press Shift + Enter\n",
    "\n"
   ]
  },
  {
   "cell_type": "markdown",
   "metadata": {
    "pycharm": {
     "name": "#%% md\n"
    }
   },
   "source": [
    "### Data pre-processing\n",
    "\n",
    "This step includes both handling issues spot from the previous step, and transform the data based on the requirements of the algorithms. In this case:\n",
    "\n",
    "- The dataset does not have any missing values or extreme outliers.\n",
    "- However, the numeric values in the dataset have different scales, which can cause issues with distance metrics.\n",
    "- Variables with larger scales can dominate distance metrics mathematically, even if they are less significant than variables with smaller scales.\n",
    "- For example, assume two customers with age 25 and 45, annual income 10k and 11k. Using the Euclidean distance, the large difference in annual income will dominate the smaller difference in age.\n",
    "- However, based on our intuition, the annual income difference is less significant than the age difference\n",
    "- To fix this issue, **data standardization** can be used.\n",
    "\n",
    "In this session, we will use Min-Max Standardization, which scales the numerical values from 0-1. More details can be found [here](https://scikit-learn.org/stable/modules/generated/sklearn.preprocessing.MinMaxScaler.html)"
   ]
  },
  {
   "cell_type": "code",
   "execution_count": null,
   "metadata": {
    "pycharm": {
     "name": "#%%\n"
    }
   },
   "outputs": [],
   "source": [
    "# Data standardization can be applied to numerical values\n",
    "# Press Shift + Enter\n",
    "\n",
    "numeric_columns = ['age', 'annual_income', 'total_sku_quantities',\n",
    "                   'total_net_sales', 'most_recent_purchase_days', 'total_no_transactions',\n",
    "                   'Greek yogurt_count', 'Nuts_count', 'Apple slices_count', 'Chips_count',\n",
    "                   'Soda_count', 'Chocolate bar_count', 'Seasonal special_count',\n",
    "                   'Promotion item_count', 'Lunchbox - Beef_count', 'Lunchbox - Vegan_count']\n",
    "\n",
    "df, df_original = standardize_numeric_data(df, numeric_columns)"
   ]
  },
  {
   "cell_type": "markdown",
   "metadata": {
    "pycharm": {
     "name": "#%% md\n"
    }
   },
   "source": [
    "### Training KMeans model\n",
    "\n",
    "The process of fitting data into the algorithm is referred as \"model training\". Since KMeans can consume more features, all numeric columns in this dataset are used for training the KMeans model."
   ]
  },
  {
   "cell_type": "code",
   "execution_count": null,
   "metadata": {
    "pycharm": {
     "name": "#%%\n"
    }
   },
   "outputs": [],
   "source": [
    "# Now, the data is ready for clustering!\n",
    "# From RFM analysis, the customers were segmented in to 4 groups\n",
    "# Let's start with the same number of segment\n",
    "# Recall RFM only takes in the 3 columns recency, frequency and monetary values\n",
    "# In K-means, we can use more variables for clustering - in this case, let's use all the numeric values\n",
    "# Press Shift + Enter\n",
    "\n",
    "df_pred = run_kmeans_model(4, df, df_original, numeric_columns)"
   ]
  },
  {
   "cell_type": "code",
   "execution_count": null,
   "metadata": {
    "pycharm": {
     "name": "#%%\n"
    }
   },
   "outputs": [],
   "source": [
    "# Let's take a look at the output dataframe\n",
    "# The last column indicate the cluster that the customer is assigned to based on K-Means clustering\n",
    "# Key in df_pred.head(10) and press Shift + Enter\n",
    "# Note: In Python, number usually starts with 0. Hence, the 4 clusters are cluster 0, 1, 2 and 3\n",
    "\n"
   ]
  },
  {
   "cell_type": "markdown",
   "metadata": {
    "pycharm": {
     "name": "#%% md\n"
    }
   },
   "source": [
    "### Explain clusters\n",
    "\n",
    "After the model assigns data into different clusters, we want to explain them to draw useful business insights"
   ]
  },
  {
   "cell_type": "code",
   "execution_count": null,
   "metadata": {
    "pycharm": {
     "name": "#%%\n"
    }
   },
   "outputs": [],
   "source": [
    "# How would you visualise the clusters?\n",
    "# If we plot each of the data point on a 3-D dimensional space, which axis representing the recency, frequency and monetary value of the data point\n",
    "# We could have a brief understanding of each segment based on the data points' positions in the 3-D space\n",
    "# Press Shift + Enter\n",
    "\n",
    "create_cluster_visualisation(df_pred)"
   ]
  },
  {
   "cell_type": "markdown",
   "metadata": {
    "pycharm": {
     "name": "#%% md\n"
    }
   },
   "source": [
    "Each dot represents a data point and each color represents the cluster assignment. You can drag the visualisation to view these data points from different angles. You can also zoom in and out.\n",
    "\n",
    "You might have realised that while some clusters are more distinctive, data points from different cluster could still mix together in the 3-D space. In the most ideal scenario, you will want to see mutually exclusive clusters. So, why does this happen?\n",
    "\n",
    "There are several possible explanations:\n",
    "- KMeans uses other input columns, together with the RFM columns, to identify clusters\n",
    "- KMeans model can be fine-tuned further to achieve better distinction\n",
    "- There's no natural groups in the datasets\n",
    "\n",
    "Now. Let's deep dive into each of these clusters and observe what are they."
   ]
  },
  {
   "cell_type": "code",
   "execution_count": null,
   "metadata": {
    "pycharm": {
     "name": "#%%\n"
    }
   },
   "outputs": [],
   "source": [
    "# Let's take a look at the first cluster from the KMeans model\n",
    "# Press Shift + Enter\n",
    "\n",
    "create_segment_profiling_chart(df_pred, 0)"
   ]
  },
  {
   "cell_type": "markdown",
   "metadata": {
    "pycharm": {
     "name": "#%% md\n"
    }
   },
   "source": [
    "You might have realised - this is very similar to the Star segment we have identified from the RFM analysis!\n",
    "- These are mostly working adults, with relatively high income\n",
    "- Favorite SKUs are healthy food - Nuts, Greek Yogurt and Apple Slices\n",
    "- High in Monetary, Frequency and Recency values\n",
    "\n",
    "However, note that the segment size is significantly lower than our Star segment - it only has 18 customers. Can you think of potential reasons?\n",
    "\n",
    "Can you create the same chart for the other 3 clusters created by the KMeans model?"
   ]
  },
  {
   "cell_type": "code",
   "execution_count": null,
   "metadata": {
    "pycharm": {
     "name": "#%%\n"
    }
   },
   "outputs": [],
   "source": [
    "# Replace the 0 in the next cell with other cluster numbers, i.e., 1, 2, and 3. Press Shift+Enter\n",
    "t = widgets.TabBar([\"Cluster 0\", \"Cluster 1\", \"Cluster 2\", \"Cluster 3\"])\n",
    "with t.output_to(0):\n",
    "    create_segment_profiling_chart(df_pred, 0)\n",
    "\n",
    "with t.output_to(1):\n",
    "    create_segment_profiling_chart(df_pred, 0) # Replace this 0 with 1\n",
    "\n",
    "with t.output_to(2):\n",
    "    create_segment_profiling_chart(df_pred, 0) # Replace this 0 with 2\n",
    "\n",
    "with t.output_to(3):\n",
    "    create_segment_profiling_chart(df_pred, 0) # Replace this 0 with 3"
   ]
  },
  {
   "cell_type": "markdown",
   "metadata": {
    "pycharm": {
     "name": "#%% md\n"
    }
   },
   "source": [
    "<table><tr>\n",
    "<td><img src = \"images/discussion.png\" height = \"150\" width = \"150\"/></td>\n",
    "<td><b>Discussion: </b> How are the clusters from KMeans different from RFM? What are the new insights you can get from these KMeans clusters?</td>\n",
    "</tr></table>"
   ]
  },
  {
   "cell_type": "markdown",
   "metadata": {
    "pycharm": {
     "name": "#%% md\n"
    }
   },
   "source": [
    "### Model evaluation\n",
    "\n",
    "The process of evaluating machine learning model based on statistic and business metrics is commonly referred as \"model evaluation\"\n",
    "\n",
    "How can you be sure that 4 is the right number of clusters? You can evaluate the clusters by using Elbow Method\n",
    "\n",
    "<b>Algorithm for Elbow Method</b>\n",
    "\n",
    "1. Run k-means clustering on the dataset for a range of values of k (say, k from 1 to 10 in the examples above)\n",
    "2. For each value of k calculate the [sum of squared errors (SSE)](https://hlab.stanford.edu/brian/error_sum_of_squares.html) - which is a statistic metrics to evaluate clusters\n",
    "3. Plot a line chart of the SSE for each value of k\n",
    "4. If the line chart looks like an arm, then the \"elbow\" on the arm is the value of k that is the best.\n",
    "\n",
    "The plot should look like this:\n",
    "<img src = \"images/elbow1.png\"><br>\n",
    "\n",
    "In our plot we see a pretty clear elbow at k = 3, indicating that 3 is the best number of clusters.\n",
    "\n",
    "Let's apply this method on our models now!\n"
   ]
  },
  {
   "cell_type": "code",
   "execution_count": null,
   "metadata": {
    "pycharm": {
     "name": "#%%\n"
    }
   },
   "outputs": [],
   "source": [
    "# Let's create the elbow chart for this problem!\n",
    "# Press Shift + Enter\n",
    "\n",
    "plot_elbow_chart(df_pred, numeric_columns)"
   ]
  },
  {
   "cell_type": "markdown",
   "metadata": {
    "pycharm": {
     "name": "#%% md\n"
    }
   },
   "source": [
    "From the plot, 2 is the \"clear elbow\" of the chart. Shall we re-run the algorithm with number of clusters = 2?\n",
    "\n",
    "Well, you have to consider the following questions before making this call:\n",
    "- Is it enough to have just 2 clusters? Will you ignore some smaller segments among your customers?\n",
    "- Are the 2 clusters identified suitable for marketing purpose?\n",
    "\n",
    "In reality, the elbow algorithm serves more as a reference. You might want to iterate the KMeans with different parameters to create the most meaningful clusters"
   ]
  },
  {
   "cell_type": "markdown",
   "metadata": {
    "pycharm": {
     "name": "#%% md\n"
    }
   },
   "source": [
    "### Iterate KMeans with different number of clusters\n",
    "\n",
    "Different choices of numbers of clusters will lead to different cluster assignments, which may bring out different insights about customer segmentations.\n",
    "Let's use this exercise to explore different configurations to the KMeans model. Observe the different customer segments.\n",
    "\n",
    "In the next cell, replace number_of_clusters with your choice.\n",
    "- number_of_clusters: an integer, recommended range is from 2 to 6\n",
    "\n",
    "Hint:\n",
    "- Try number_of_clusters 5 and observe the outcome clusters\n",
    "- What are the issues with some clusters (check the segment size)\n",
    "- What can you do with these clusters?"
   ]
  },
  {
   "cell_type": "code",
   "execution_count": null,
   "metadata": {
    "pycharm": {
     "name": "#%%\n"
    }
   },
   "outputs": [],
   "source": [
    "# Replace number_of_clusters with your choice\n",
    "# Explore the output clusters, observe differences, and identity new insights\n",
    "# Press Shift + Enter\n",
    "\n",
    "experiment_different_cluster(df, df_original, numeric_columns, number_of_clusters)"
   ]
  },
  {
   "cell_type": "markdown",
   "source": [
    "<table><tr>\n",
    "<td><img src = \"images/discussion.png\" height = \"150\" width = \"150\"/></td>\n",
    "<td><b>Discussion: </b> What do you observe from the new clustering results?</td>\n",
    "</tr></table>"
   ],
   "metadata": {
    "collapsed": false,
    "pycharm": {
     "name": "#%% md\n"
    }
   }
  },
  {
   "cell_type": "markdown",
   "source": [
    "## Summary\n",
    "\n",
    "- Machine learning-based clustering algorithms, advanced in nature, surpass Excel-based segmentation analysis due to their flexibility across various use cases and industries.\n",
    "- Advanced clustering algorithms have several benefits over RFM analysis, including the ability to handle and process more information than RFM features, scalability to micro-segments, and faster iteration times.\n",
    "- Among the most frequently used clustering algorithms, K-Means clustering stands out for its capacity to provide superior insights in a shorter amount of time."
   ],
   "metadata": {
    "collapsed": false,
    "pycharm": {
     "name": "#%% md\n"
    }
   }
  },
  {
   "cell_type": "markdown",
   "metadata": {
    "pycharm": {
     "name": "#%% md\n"
    }
   },
   "source": [
    "<font style=\"font-family:Trebuchet MS;\">\n",
    "\n",
    "***\n",
    "\n",
    "*This marks the end of this lesson*<br><br>\n",
    "\n",
    "<div style=\"text-align: center\"><font size=\"8\"><font style=\"font-family:Trebuchet MS;\">Happy Clustering !!!</font></font></div>"
   ]
  },
  {
   "cell_type": "code",
   "execution_count": null,
   "metadata": {
    "pycharm": {
     "name": "#%%\n"
    }
   },
   "outputs": [],
   "source": []
  }
 ],
 "metadata": {
  "anaconda-cloud": {},
  "kernelspec": {
   "display_name": "Python 3 (ipykernel)",
   "language": "python",
   "name": "python3"
  },
  "language_info": {
   "codemirror_mode": {
    "name": "ipython",
    "version": 3
   },
   "file_extension": ".py",
   "mimetype": "text/x-python",
   "name": "python",
   "nbconvert_exporter": "python",
   "pygments_lexer": "ipython3",
   "version": "3.9.12"
  },
  "toc": {
   "base_numbering": 1,
   "nav_menu": {},
   "number_sections": true,
   "sideBar": true,
   "skip_h1_title": false,
   "title_cell": "Table of Contents",
   "title_sidebar": "Contents",
   "toc_cell": true,
   "toc_position": {
    "height": "544px",
    "left": "133px",
    "top": "203.14px",
    "width": "307.2px"
   },
   "toc_section_display": true,
   "toc_window_display": false
  }
 },
 "nbformat": 4,
 "nbformat_minor": 4
}