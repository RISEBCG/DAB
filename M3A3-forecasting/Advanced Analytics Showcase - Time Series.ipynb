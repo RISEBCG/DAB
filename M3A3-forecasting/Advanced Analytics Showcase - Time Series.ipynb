{
 "cells": [
  {
   "cell_type": "markdown",
   "metadata": {
    "pycharm": {
     "name": "#%% md\n"
    }
   },
   "source": [
    "# **Advanced Analytics Showcase - Advanced Time Series Forecasting**\n",
    "\n",
    "![time_series_meme](images/time_series_meme.jpg)"
   ]
  },
  {
   "cell_type": "markdown",
   "metadata": {
    "pycharm": {
     "name": "#%% md\n"
    }
   },
   "source": [
    "## Learning Objectives\n",
    "\n",
    "* Explain the key concepts of time series and the most common forecasting algorithm - SARIMA\n",
    "* Recognize common use cases and potential business impact of time series forecasting\n",
    "* Familiarize with key vocabularies in forecasting and understand the language of a Data Analyst/Data Scientist\n",
    "* Appreciate the advantages of ARIMA over Excel-based forecasting\n",
    "\n",
    "![](images/intro_meme.jpg)\n"
   ]
  },
  {
   "cell_type": "markdown",
   "metadata": {
    "pycharm": {
     "name": "#%% md\n"
    }
   },
   "source": [
    "## Introduction to Python Jupyter Notebook\n",
    "\n",
    "**What is a Jupyter Notebook**\n",
    "\n",
    "What you are working with right now is a \"Python Jupyter Notebook\".\n",
    "\n",
    "- Python Jupyter Notebook is a popular and powerful tool used by data scientists and analysts to conduct analytics projects.\n",
    "- It allows users to create and share documents containing live code, equations, visualizations, and text.\n",
    "- Jupyter Notebook provides an interactive environment where data scientists can explore data, build models, and communicate their findings effectively.\n",
    "- The flexibility of Jupyter Notebook makes it easy to experiment with different data analysis techniques and share the results with stakeholders.\n",
    "\n",
    "**How to run a Jupyter Notebook?**\n",
    "\n",
    "- Insert text to the code cell by clicking on it.\n",
    "- To execute the code, select the code cell and press \"Shift\" + \"Enter\" keys on the keyboard.\n",
    "- Wait for the code to execute, which might take some time for longer cells.\n",
    "- Once executed, the output will be displayed below the code cell.\n",
    "\n",
    "Practice on the cell below"
   ]
  },
  {
   "cell_type": "code",
   "execution_count": null,
   "metadata": {
    "pycharm": {
     "name": "#%%\n"
    }
   },
   "outputs": [],
   "source": [
    "PRACTICE_TEXT = \"REPLACE WITH YOUR NAME\"\n",
    "print(\"Hi {}! Welcome to the clustering showcase session. You have learnt how to execute a Jupyter code cell!\".format(PRACTICE_TEXT))"
   ]
  },
  {
   "cell_type": "markdown",
   "metadata": {
    "pycharm": {
     "name": "#%% md\n"
    }
   },
   "source": [
    "## Introduction to Time Series Forecasting\n",
    "\n",
    "**Time series is anything observed sequentially over time.**\n",
    "- Most commonly, time series data is observed at equally spaced successive intervals of time.\n",
    "- The measurements taken during an event in a time series are arranged in a proper chronological order.\n",
    "- A time series containing records of a single variable is termed as univariate, and more than one variable a multivariate.\n",
    "\n",
    "**Time Series Forecasting is a method of predicting future values of a variable based on its past values.**\n",
    "- It involves analyzing patterns and trends in time series data to make predictions about future values.\n",
    "- Common methods used for time series forecasting include exponential smoothing, ARIMA, neural networks, and regression analysis.\n",
    "    - Excel Forecasting Sheet function uses exponential smoothing algorithm.\n",
    "- Time series forecasting is used in many industries to make informed decisions about resource allocation, production planning, and other business operations.\n",
    "\n",
    "\n",
    "<img src=\"images/time-series-forecasting-example.png\" alt=\"alt text\">"
   ]
  },
  {
   "cell_type": "markdown",
   "metadata": {
    "pycharm": {
     "name": "#%% md\n"
    }
   },
   "source": [
    "## Possible Applications\n",
    "\n",
    "Time Series Forecasting is useful when time plays the most crucial role in determining the value of variable of interest and there are no or very few external variables that can impact the particular variable. Every time series forecast deals with continuous data over time.\n",
    "\n",
    "- Sales forecasting for retail\n",
    "- Inventory management forecasting\n",
    "- Energy demand forecasting\n",
    "- Traffic volume forecasting\n",
    "- Workforce requirement forecasting\n",
    "- Temperature forecasting\n",
    "- Crop yield forecasting\n",
    "- Stock price forecasting\n",
    "- Customer demand forecasting\n",
    "- Website traffic forecasting\n",
    "- Disease outbreak forecasting\n",
    "- Real estate market forecasting\n",
    "- Airline passenger volume forecasting\n",
    "- Mobile app usage forecasting\n",
    "- Social media engagement forecasting\n",
    "- Hotel occupancy forecasting\n",
    "- Tourist arrivals forecasting\n",
    "\n",
    "<table>\n",
    "  <tr>\n",
    "    <td><img src=\"images/discussion.png\" height=\"150\" width=\"150\" /></td>\n",
    "    <td>\n",
    "      <p style=\"font-size: 18px;\">Discussion: </p><br>\n",
    "      <p style=\"font-size: 18px;\">\n",
    "        Are any of these use cases relevant to your company, or any other use cases not in this list? Can you use Excel Forecast Sheet to solve them?\n",
    "      </p>\n",
    "    </td>\n",
    "  </tr>\n",
    "</table>\n"
   ]
  },
  {
   "cell_type": "markdown",
   "metadata": {
    "pycharm": {
     "name": "#%% md\n"
    }
   },
   "source": [
    "# Advantages of Advanced Time Series Forecasting over Excel Forecasting\n",
    "\n",
    "**Recap: Demand forecasting introduced in M1:**\n",
    "\n",
    "<br>\n",
    "\n",
    "<img src = \"images/time_series_example.png\">\n",
    "\n",
    "**Challenge: Complex demand patterns**\n",
    "- The demand pattern is very complex. Excel Forecast Sheet has limited flexibility to customize for the trend, seasonality, and cyclical patterns\n",
    "- You can finetune the parameters of advanced forecasting model or use different types of algorithms to account for the different patterns in the data\n",
    "\n",
    "**Challenge: Include business context in the model**\n",
    "- There are multiple business factors that could impact cement demand - promotions, holidays, competitor activities, etc. Excel Forecast Sheet cannot consume these information\n",
    "- Some forecasting algorithms, e.g., ARIMAX, will be able to take in both time series and external variables to make predictions\n",
    "\n",
    "**Challenge: Accurate forecasting results**\n",
    "- Due to the limitations in model flexibility and data, accuracy of the Excel Forecast Sheet is less satisfactory\n",
    "- Many advanced forecasting algorithms are designed to handle different types of time series data, which will lead to much better performance\n",
    "\n",
    "In summary, the table below summarises the advantages of advanced time series forecasting over Excel forecasting\n",
    "\n",
    "|                                                                                | Advanced Forecasting | Excel Forecast Sheet |\n",
    "|--------------------------------------------------------------------------------|----------------------|----------------------|\n",
    "| Flexibility to be customized to account for different types of time series data | Yes                  | No                   |\n",
    "| Ability to include business context and external variables                     | Yes                  | No                   |\n",
    "| More accurate forecasting results                                              | Yes                  | No                   |\n",
    "| Ability to handle outliers                                                     | Yes                  | No                   |\n",
    "| Ability to handle large and complex datasets                                   | Yes                  | No                   |\n"
   ]
  },
  {
   "cell_type": "markdown",
   "metadata": {
    "pycharm": {
     "name": "#%% md\n"
    }
   },
   "source": [
    "## Key Concepts from the Time Series Forecasting\n",
    "\n",
    "### Components of Time Series\n",
    "The various reasons or the forces which affect the values of an observation in a time series are the components of a time series. The four categories of the components of time series:\n",
    "- Trend: Trend is defined as long term increase or decrease in the data. It can be linear or non-linear\n",
    "- Seasonality: It is characteristics of time series in which data experiences regular and predictable changes after a fixed period.\n",
    "- Cyclic: A cyclic pattern exists when data exhibit rises and falls that are not of fixed period.\n",
    "- Irregularity/Residuals: After removing all above-mentioned components from time series, the remaining part is called irregular component.\n",
    "\n",
    "![](images/timeseries-components.PNG) <br>\n",
    "\n",
    "### Evaluation metrics\n",
    "\n",
    "- __Mean Absolute Error (MAE)__: It is mean of mod(actual - predicted value). This metric is easy to interpret as it has the same unit of measurement as the initial series. It can range from [0, +inf)\n",
    "- __Mean Squared Error(MSE)__: This is mean of (actual-predicted)^2. The squared error gives higher penalty to large deviations. This ranges from [0,+inf)\n",
    "- __Root mean squared error (RMSE)__: This is standard deviation of the residuals. Range: [0, +inf)\n",
    "\n",
    "**Use of various metrics**\n",
    "\n",
    "- RMSE has the benefit of penalizing large errors more so can be more appropriate in some cases, for example, if being off by 10 is more than twice as bad as being off by 5. But if being off by 10 is just twice as bad as being off by 5, then MAE is more appropriate.\n",
    "- From an interpretation standpoint, MAE is clearly the winner. RMSE does not describe average error alone and has other implications that are more difficult to tease out and understand.\n",
    "- On the other hand, one distinct advantage of RMSE over MAE is that RMSE avoids the use of taking the absolute value, which is undesirable in many mathematical calculations\n",
    "\n",
    "<table><tr>\n",
    "<td><img src = \"images/mae.jpeg\" height = \"300\" width = \"300\"/></td>\n",
    "<td><img src = \"images/mse.jpeg\" height = \"300\" width = \"300\"/></td>\n",
    "</tr></table>\n"
   ]
  },
  {
   "cell_type": "markdown",
   "metadata": {
    "pycharm": {
     "name": "#%% md\n"
    }
   },
   "source": [
    "## Forecasting Methods\n",
    "\n",
    "### 4 Stages of Maturity in Forecasting\n",
    "\n",
    "There are various advanced forecasting methods available, ranging from basic statistical aggregation to complex neural networks, covering the entire spectrum of maturity. Although many small and medium-sized enterprises (SMEs) typically use simple methods such as Moving Averages or Excel Forecast Sheet at the basic level, your company could obtain significant advantages by adopting intermediate or even advanced level of forecasting methods, which are not overly complicated to implement. <br>\n",
    "\n",
    "![](images/stages_of_forecasting.png)\n",
    "\n",
    "<br>\n",
    "\n",
    "### Intermediate Stage Methods\n",
    "\n",
    "<br>\n",
    "\n",
    "| Methods |                                       Description                                       |                                                                Potential Use Cases                                                                |\n",
    "|:-------:|:---------------------------------------------------------------------------------------:|:-------------------------------------------------------------------------------------------------------------------------------------------------:|\n",
    "| ARIMA   | A way to find patterns and trends in data that changes a lot over time                  | Financial forecasting, sales forecasting, demand forecasting, predicting traffic volume, forecasting energy consumption                           |\n",
    "| ARIMAX  | It takes into account outside factors that may affect the outcome                       | Economic forecasting, stock market analysis, marketing campaign optimization, predicting customer churn, weather forecasting                      |\n",
    "| SARIMA  | It takes into account for regular patterns that repeat within each season               | Retail sales forecasting, airline passenger forecasting, hotel room occupancy forecasting, predicting electricity demand during different seasons |\n",
    "| SARIMAX | It takes into account outside factors and seasonal patterns that may affect the outcome | Retail sales forecasting with external factors such as promotions, predicting electricity demand with weather and holiday as exogenous variables  |\n",
    "\n",
    "<br>\n",
    "\n",
    "In summary:\n",
    "- you should choose ARIMA models when you are working with univariate time series data and do not have any known external factors that may impact the time series.\n",
    "- Use ARIMAX models when you have external variables that can be used to improve the forecasting accuracy of the time series.\n",
    "- Use SARIMA and SARIMAX models when your data exhibit seasonal patterns that need to be captured to make accurate forecasts."
   ]
  },
  {
   "cell_type": "markdown",
   "metadata": {
    "pycharm": {
     "name": "#%% md\n"
    }
   },
   "source": [
    "## Apply Forecasting Like a Data Scientist\n",
    "\n",
    "Now, let's revisit our FFC sales data and apply advanced forecasting methods on this dataset.\n",
    "\n",
    "You have aggregated the sales transaction into daily interval and derived variables on dates, e.g., day of week, weekend indicator, and Singapore public holiday indicator, etc.\n"
   ]
  },
  {
   "cell_type": "markdown",
   "metadata": {
    "pycharm": {
     "name": "#%% md\n"
    }
   },
   "source": [
    "### Load required libraries\n",
    "\n",
    "Python is an open-sourced programming language with many contributors creating libraries for different purposes. These libraries will need to be loaded at the beginning of the scripts. After loading, we will be able to use the functions in these libraries"
   ]
  },
  {
   "cell_type": "code",
   "execution_count": null,
   "metadata": {
    "pycharm": {
     "name": "#%%\n"
    }
   },
   "outputs": [],
   "source": [
    "# Note - all these lines in the code block starting with # signs are comments\n",
    "# Comments provide explanations of the code and also instructions for execution\n",
    "\n",
    "## Press Shift + Enter to load all the required libraries\n",
    "\n",
    "!wget https://raw.githubusercontent.com/RISEBCG/DAB/main/M3A3-forecasting/forecasting_helper.py\n",
    "from forecasting_helper import *"
   ]
  },
  {
   "cell_type": "markdown",
   "metadata": {
    "pycharm": {
     "name": "#%% md\n"
    }
   },
   "source": [
    "### Load the dataset\n",
    "\n",
    "Python will need to load the data into the memory before consuming or transforming the data"
   ]
  },
  {
   "cell_type": "code",
   "execution_count": null,
   "metadata": {
    "pycharm": {
     "name": "#%%\n"
    }
   },
   "outputs": [],
   "source": [
    "# Load the dataset prepared for forecasting.\n",
    "# Press Shift + Enter\n",
    "\n",
    "df = pd.read_csv('https://raw.githubusercontent.com/RISEBCG/DAB/main/M3A3-forecasting/ffc_sales_data.csv', parse_dates=['Date'], index_col=['Date'] )"
   ]
  },
  {
   "cell_type": "code",
   "execution_count": null,
   "metadata": {
    "pycharm": {
     "name": "#%%\n"
    }
   },
   "outputs": [],
   "source": [
    "# Let's take a glance at the data\n",
    "# .head() command shows the top 10 rows of the dataset\n",
    "# Key in df.head(10) and press Shift + Enter\n",
    "\n"
   ]
  },
  {
   "cell_type": "markdown",
   "metadata": {
    "pycharm": {
     "name": "#%% md\n"
    }
   },
   "source": [
    "Beside the daily sales, there are other features available in this dataset:\n",
    "- Weekend: a binary indicator for whether the day is a weekend\n",
    "- Public Holiday: a binary indicator for whether the day is a public holiday\n",
    "- month_1 ... month_12: binary indicators for which month does the day belong to\n",
    "- Weekday_1 ... Weekday_7, binary indicators for which day of week does the day belong to. 1 For Sunday, 7 for Saturday"
   ]
  },
  {
   "cell_type": "code",
   "execution_count": null,
   "metadata": {
    "pycharm": {
     "name": "#%%\n"
    }
   },
   "outputs": [],
   "source": [
    "# Let's visualise this time series by a line chart\n",
    "# Press Shift + Enter\n",
    "\n",
    "fig = px.line(df, x=df.index, y='DailySales', title='Daily Sales')\n",
    "fig.show()"
   ]
  },
  {
   "cell_type": "markdown",
   "metadata": {
    "pycharm": {
     "name": "#%% md\n"
    }
   },
   "source": [
    "### Time series decomposition\n",
    "\n",
    "Through statistical methods, a time series can be split into its key components - trend, seasonality, and residuals. Note the cyclic and seasonality components are combined in this exercise"
   ]
  },
  {
   "cell_type": "code",
   "execution_count": null,
   "metadata": {
    "pycharm": {
     "name": "#%%\n"
    }
   },
   "outputs": [],
   "source": [
    "# In this step, we decompose the time series into its key component\n",
    "# Press Shift + Enter\n",
    "\n",
    "decompose(df['DailySales'])"
   ]
  },
  {
   "cell_type": "markdown",
   "metadata": {
    "pycharm": {
     "name": "#%% md\n"
    }
   },
   "source": [
    "<table>\n",
    "  <tr>\n",
    "    <td><img src=\"images/discussion.png\" height=\"150\" width=\"150\" /></td>\n",
    "    <td>\n",
    "      <p style=\"font-size: 18px;\">Discussion: </p><br>\n",
    "      <p style=\"font-size: 18px;\">\n",
    "        - Which type of methods are more suitable for FFC - ARIMA or seasonal ARIMA?<br>\n",
    "        - What insights can you draw from the trend and seasonality components?\n",
    "      </p>\n",
    "    </td>\n",
    "  </tr>\n",
    "</table>\n"
   ]
  },
  {
   "cell_type": "markdown",
   "metadata": {
    "pycharm": {
     "name": "#%% md\n"
    }
   },
   "source": [
    "\n",
    "### Train a SARIMA model\n",
    "\n",
    "- Based on the seasonality observed from the decomposition, it is recommended to utilize a SARIMA model for handling the seasonality.\n",
    "- During Machine Learning, it is crucial to divide data into training and testing sets. The model is trained on the training set and validated using the testing set.\n",
    "- For this particular exercise, the SARIMA model will be trained on all the available data up until July 2022, and the model's performance will be evaluated using data from the remainder of 2022.\n"
   ]
  },
  {
   "cell_type": "code",
   "execution_count": null,
   "metadata": {
    "pycharm": {
     "name": "#%%\n"
    }
   },
   "outputs": [],
   "source": [
    "# In this step, we will split the time series into training and testing dataset\n",
    "# The cutoff date is 2022-07-01\n",
    "# Replace the \"CUTOFF_DATE\" with \"2022-07-01\"\n",
    "# Press Shift + Enter\n",
    "\n",
    "train, test = create_training_testing_data(df, 'CUTOFF_DATE')"
   ]
  },
  {
   "cell_type": "code",
   "execution_count": null,
   "metadata": {
    "pycharm": {
     "name": "#%%\n"
    }
   },
   "outputs": [],
   "source": [
    "# replace \"MODEL_TYPE\" with \"sarima\"\n",
    "# Press Shift + Enter\n",
    "\n",
    "sarima = train_forecasting_model(train, type=\"MODEL_TYPE\")"
   ]
  },
  {
   "cell_type": "markdown",
   "metadata": {
    "pycharm": {
     "name": "#%% md\n"
    }
   },
   "source": [
    "### Evaluate SARIMA\n",
    "\n",
    "- We will compute Mean Absolute Error (MAE) and Mean Squared Error (MSE) from the testing set\n",
    "- We will compare the model performance with Excel Forecast Sheet function, using the same training and testing sets"
   ]
  },
  {
   "cell_type": "code",
   "execution_count": null,
   "metadata": {
    "pycharm": {
     "name": "#%%\n"
    }
   },
   "outputs": [],
   "source": [
    "# replace model with sarima, and \"MODEL_TYPE\" with \"sarima\"\n",
    "# Press Shift + Enter\n",
    "\n",
    "sarima_outputs = evaluate_model_performance(test, model, type=\"MODEL_TYPE\")"
   ]
  },
  {
   "cell_type": "markdown",
   "metadata": {
    "pycharm": {
     "name": "#%% md\n"
    }
   },
   "source": [
    "<table>\n",
    "  <tr>\n",
    "    <td><img src=\"images/discussion.png\" height=\"150\" width=\"150\" /></td>\n",
    "    <td>\n",
    "      <p style=\"font-size: 18px;\">Discussion: </p><br>\n",
    "      <p style=\"font-size: 18px;\">\n",
    "        - Which forecasting is more accurate? SARIMA or Excel?<br>\n",
    "        - How are SARIMA forecasts different from Excel forecasts?\n",
    "      </p>\n",
    "    </td>\n",
    "  </tr>\n",
    "</table>"
   ]
  },
  {
   "cell_type": "markdown",
   "metadata": {
    "pycharm": {
     "name": "#%% md\n"
    }
   },
   "source": [
    "### Train Evaluate a SARIMAX model\n",
    "\n",
    "The SARIMA model has demonstrated superior accuracy compared to Excel Forecast. However, can we improve the model's performance further? It's worth considering the external variables present in the dataset. By incorporating these variables into the SARIMAX model, we can achieve even better accuracy. Variables such as public holidays and weekends are particularly relevant to the sales context and should be considered."
   ]
  },
  {
   "cell_type": "code",
   "execution_count": null,
   "metadata": {
    "pycharm": {
     "name": "#%%\n"
    }
   },
   "outputs": [],
   "source": [
    "# replace \"MODEL_TYPE\" with \"sarimax\"\n",
    "# Press Shift + Enter\n",
    "# This cell might take up to 3 minutes to complete\n",
    "\n",
    "sarimax = train_forecasting_model(train, type=\"MODEL_TYPE\")"
   ]
  },
  {
   "cell_type": "code",
   "execution_count": null,
   "metadata": {
    "pycharm": {
     "name": "#%%\n"
    }
   },
   "outputs": [],
   "source": [
    "# replace model with sarimax, and \"MODEL_TYPE\" with \"sarimax\"\n",
    "# Press Shift + Enter\n",
    "\n",
    "sarimax_outputs = evaluate_model_performance(test, model, type=\"MODEL_TYPE\")"
   ]
  },
  {
   "cell_type": "code",
   "execution_count": null,
   "metadata": {
    "pycharm": {
     "name": "#%%\n"
    }
   },
   "outputs": [],
   "source": [
    "# Let's combine all the predictions together\n",
    "# Press Shift + Enter\n",
    "\n",
    "combine_viz(sarima_outputs, sarimax_outputs)"
   ]
  },
  {
   "cell_type": "markdown",
   "metadata": {
    "pycharm": {
     "name": "#%% md\n"
    }
   },
   "source": [
    "<table>\n",
    "  <tr>\n",
    "    <td><img src=\"images/discussion.png\" height=\"150\" width=\"150\" /></td>\n",
    "    <td>\n",
    "      <p style=\"font-size: 18px;\">Discussion: </p><br>\n",
    "      <p style=\"font-size: 18px;\">\n",
    "        - Which forecasting is more accurate? SARIMAX or SARIMA?<br>\n",
    "        - How are SARIMAX forecasts different from SARIMA forecasts?<br>\n",
    "        - If you are the business owner of FFC, which model will you trust more?<br>\n",
    "        - What other important business context variables can be included in the SARIMAX model?\n",
    "      </p>\n",
    "    </td>\n",
    "  </tr>\n",
    "</table>\n"
   ]
  },
  {
   "cell_type": "markdown",
   "metadata": {
    "pycharm": {
     "name": "#%% md\n"
    }
   },
   "source": [
    "## Summary:\n",
    "- Various industries leverage advanced forecasting methods to address diverse business problems.\n",
    "- By handling complex patterns and external factors, advanced forecasting methods deliver superior accuracy and outperform Excel-based forecasting.\n",
    "- Insights of great value can be derived by decomposing time series data into its fundamental components.\n",
    "- Although they unlock immense potential value, ARIMA, ARIMAX, SARIMA, and SARIMAX are readily accessible forecasting methods that are easy to implement."
   ]
  },
  {
   "cell_type": "markdown",
   "source": [
    "## Additional Resources\n",
    "\n",
    "In this showcase, we skipped several technical concepts in time series forecasting. If you are interested to learn more about these time series concepts, you can refer to the links below:\n",
    "\n",
    "- [stationary](https://otexts.com/fpp2/stationarity.html): time series with constant mean and variance over time. It is a common assumption for many forecasting algorithms\n",
    "- [differencing](https://otexts.com/fpp2/stationarity.html): a technique to make the time series stationary\n",
    "- [Dickey-Fuller test](https://www.machinelearningplus.com/time-series/augmented-dickey-fuller-test/): a hypothesis test for stationary\n",
    "- [auto-correlation](https://otexts.com/fpp2/autocorrelation.html): the degree of correlation between a time series and its past values\n",
    "- [ACF/PACF plots](https://towardsdatascience.com/interpreting-acf-and-pacf-plots-for-time-series-forecasting-af0d6db4061c): visualisation for auto-correlation and partial auto-correlation\n",
    "- [p,d,q,P,D,Q,M](https://otexts.com/fpp2/seasonal-arima.html): model parameters of a SARIMA model"
   ],
   "metadata": {
    "collapsed": false,
    "pycharm": {
     "name": "#%% md\n"
    }
   }
  },
  {
   "cell_type": "markdown",
   "metadata": {
    "pycharm": {
     "name": "#%% md\n"
    }
   },
   "source": [
    "<font style=\"font-family:Trebuchet MS;\">\n",
    "\n",
    "***\n",
    "\n",
    "*This marks the end of this lesson*<br><br>\n",
    "\n",
    "<div style=\"text-align: center\"><font size=\"8\"><font style=\"font-family:Trebuchet MS;\">Happy Forecasting !!!</font></font></div>"
   ]
  },
  {
   "cell_type": "code",
   "execution_count": null,
   "metadata": {
    "pycharm": {
     "name": "#%%\n"
    }
   },
   "outputs": [],
   "source": []
  }
 ],
 "metadata": {
  "kernelspec": {
   "display_name": "Python 3 (ipykernel)",
   "language": "python",
   "name": "python3"
  },
  "language_info": {
   "codemirror_mode": {
    "name": "ipython",
    "version": 3
   },
   "file_extension": ".py",
   "mimetype": "text/x-python",
   "name": "python",
   "nbconvert_exporter": "python",
   "pygments_lexer": "ipython3",
   "version": "3.9.12"
  }
 },
 "nbformat": 4,
 "nbformat_minor": 1
}